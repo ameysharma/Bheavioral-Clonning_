{
 "cells": [
  {
   "cell_type": "code",
   "execution_count": 46,
   "metadata": {
    "collapsed": true
   },
   "outputs": [],
   "source": [
    "import os\n",
    "import csv\n",
    "from sklearn.utils import shuffle\n",
    "\n",
    "\n",
    "samples = []\n",
    "with open('data/driving_log.csv') as csvfile:\n",
    "    reader = csv.reader(csvfile)\n",
    "    for line in reader:\n",
    "        samples.append(line)\n",
    "\n",
    "from sklearn.model_selection import train_test_split\n",
    "train_samples, validation_samples = train_test_split(samples, test_size=0.2)\n",
    "\n",
    "\n",
    "import cv2\n",
    "import numpy as np\n",
    "import sklearn\n",
    "\n",
    "center_angles=[]\n",
    "right_angles=[]\n",
    "left_angles=[]\n",
    "center_images=[]\n",
    "right_images=[]\n",
    "left_images=[]\n",
    "\n",
    "def generator(images, batch_size=128):\n",
    "    num_samples = len(samples)\n",
    "    while 1: # Loop forever so the generator never terminates\n",
    "        shuffle(samples)\n",
    "        for offset in range(0, num_samples, batch_size):\n",
    "            batch_samples = samples[offset:offset+batch_size]\n",
    "\n",
    "            images = []\n",
    "            angles = []\n",
    "            for batch_sample in batch_samples:\n",
    "                filename=batch_sample[0].split('/')[-1]\n",
    "                current_path='data/IMG/'+filename\n",
    "                name = current_path\n",
    "                image = cv2.imread(name,cv2.IMREAD_COLOR)\n",
    "                image=cv2.cvtColor(image,cv2.COLOR_BGR2YUV)\n",
    "                angle = float(batch_sample[3])\n",
    "                images.append(image)\n",
    "                angles.append(angle)\n",
    "                images.append(cv2.flip(image,1))\n",
    "                angles.append(-1*angle)\n",
    "                #left image data with angle\n",
    "                filename=batch_sample[1].split('/')[-1]\n",
    "                current_path='data/IMG/'+filename\n",
    "                name = current_path\n",
    "                image = cv2.imread(name,cv2.IMREAD_COLOR)\n",
    "                image=cv2.cvtColor(image,cv2.COLOR_BGR2YUV)\n",
    "                angle = float(batch_sample[3])\n",
    "                images.append(image)\n",
    "                angles.append(angle+0.22)\n",
    "                images.append(cv2.flip(image,1))\n",
    "                angles.append(-1*(angle+0.22))\n",
    "                #Right image data\n",
    "                filename=batch_sample[2].split('/')[-1]\n",
    "                current_path='data/IMG/'+filename\n",
    "                name = current_path\n",
    "                image = cv2.imread(name,cv2.IMREAD_COLOR)\n",
    "                image=cv2.cvtColor(image,cv2.COLOR_BGR2YUV)\n",
    "                angle = float(batch_sample[3])\n",
    "                images.append(image)\n",
    "                angles.append(angle-0.22)\n",
    "                images.append(cv2.flip(image,1))\n",
    "                angles.append(-1*(angle-0.22))\n",
    "             \n",
    "\n",
    "                \n",
    "\n",
    "            # trim image to only see section with road\n",
    "            X_train = np.array(images)\n",
    "            y_train = np.array(angles)\n",
    "            yield sklearn.utils.shuffle(X_train, y_train)\n",
    "            yield sklearn.utils.shuffle(X_train, y_train)\n",
    "             # compile and train the model using the generator function\n",
    "\n",
    "train_generator = generator(train_samples, batch_size=128)\n",
    "validation_generator = generator(validation_samples, batch_size=128)\n"
   ]
  },
  {
   "cell_type": "code",
   "execution_count": 2,
   "metadata": {
    "collapsed": true
   },
   "outputs": [],
   "source": [
    " yield sklearn.utils.shuffle(X_train, y_train)\n",
    " "
   ]
  },
  {
   "cell_type": "code",
   "execution_count": null,
   "metadata": {
    "collapsed": true
   },
   "outputs": [],
   "source": []
  },
  {
   "cell_type": "code",
   "execution_count": 47,
   "metadata": {},
   "outputs": [
    {
     "name": "stdout",
     "output_type": "stream",
     "text": [
      "Epoch 1/20\n",
      "6144/6428 [===========================>..] - ETA: 0s - loss: 6.1741"
     ]
    },
    {
     "name": "stderr",
     "output_type": "stream",
     "text": [
      "/home/carnd/anaconda3/envs/carnd-term1/lib/python3.5/site-packages/keras/engine/training.py:1569: UserWarning: Epoch comprised more than `samples_per_epoch` samples, which might affect learning results. Set `samples_per_epoch` correctly to avoid this warning.\n",
      "  warnings.warn('Epoch comprised more than '\n"
     ]
    },
    {
     "name": "stdout",
     "output_type": "stream",
     "text": [
      "6912/6428 [================================] - 14s - loss: 5.5102 - val_loss: 0.0787\n",
      "Epoch 2/20\n",
      "6912/6428 [================================] - 12s - loss: 0.2326 - val_loss: 0.0710\n",
      "Epoch 3/20\n",
      "6912/6428 [================================] - 12s - loss: 0.0929 - val_loss: 0.0420\n",
      "Epoch 4/20\n",
      "6912/6428 [================================] - 12s - loss: 0.0374 - val_loss: 0.0466\n",
      "Epoch 5/20\n",
      "6912/6428 [================================] - 12s - loss: 0.0405 - val_loss: 0.0492\n",
      "Epoch 6/20\n",
      "6912/6428 [================================] - 12s - loss: 0.0469 - val_loss: 0.0338\n",
      "Epoch 7/20\n",
      "6912/6428 [================================] - 12s - loss: 0.0511 - val_loss: 0.0470\n",
      "Epoch 8/20\n",
      "6912/6428 [================================] - 12s - loss: 0.0499 - val_loss: 0.0314\n",
      "Epoch 9/20\n",
      "6912/6428 [================================] - 12s - loss: 0.0295 - val_loss: 0.0384\n",
      "Epoch 10/20\n",
      "6912/6428 [================================] - 12s - loss: 0.0344 - val_loss: 0.0522\n",
      "Epoch 11/20\n",
      "6912/6428 [================================] - 12s - loss: 0.0308 - val_loss: 0.0603\n",
      "Epoch 12/20\n",
      "6912/6428 [================================] - 12s - loss: 0.0235 - val_loss: 0.0466\n",
      "Epoch 13/20\n",
      "6912/6428 [================================] - 12s - loss: 0.0401 - val_loss: 0.0317\n",
      "Epoch 14/20\n",
      "6576/6428 [==============================] - 12s - loss: 0.0308 - val_loss: 0.0236\n",
      "Epoch 15/20\n",
      "6912/6428 [================================] - 12s - loss: 0.0251 - val_loss: 0.0339\n",
      "Epoch 16/20\n",
      "6912/6428 [================================] - 12s - loss: 0.0279 - val_loss: 0.0181\n",
      "Epoch 17/20\n",
      "6912/6428 [================================] - 12s - loss: 0.0313 - val_loss: 0.0371\n",
      "Epoch 18/20\n",
      "6912/6428 [================================] - 12s - loss: 0.0209 - val_loss: 0.0182\n",
      "Epoch 19/20\n",
      "6912/6428 [================================] - 12s - loss: 0.0235 - val_loss: 0.0425\n",
      "Epoch 20/20\n",
      "6912/6428 [================================] - 12s - loss: 0.0292 - val_loss: 0.0359\n"
     ]
    }
   ],
   "source": [
    "from keras.models import Sequential,Model\n",
    "from keras.layers import Flatten, Dense, Lambda, Cropping2D, Dropout\n",
    "from keras.layers.convolutional import Convolution2D\n",
    "from keras.layers.pooling import MaxPooling2D\n",
    "from keras import optimizers\n",
    "model=Sequential()\n",
    "model.add(Lambda(lambda x:x/127.5 - 1,input_shape=(160, 320, 3),output_shape=(160,320,3)))\n",
    "model.add(Cropping2D(cropping=((70,25), (0,0))))\n",
    "model.add(Convolution2D(24,5,5,activation='relu'))\n",
    "model.add(MaxPooling2D((2,2),strides=(2,2)))\n",
    "model.add(Convolution2D(36,5,5,activation='relu'))\n",
    "model.add(MaxPooling2D((2,2),strides=(2,2)))\n",
    "model.add(Convolution2D(64,3,3,activation='relu'))\n",
    "model.add(MaxPooling2D())\n",
    "model.add(Convolution2D(64,3,3,activation='relu'))\n",
    "model.add(MaxPooling2D())\n",
    "model.add(Dropout(0.5)\n",
    "model.add(Flatten())\n",
    "model.add(Dense(100))\n",
    "model.add(Dense(50))\n",
    "model.add(Dense(1))\n",
    "#Setting the learning rate for the model\n",
    "adam=optimizers.adam(lr=0.0008)\n",
    "model.compile(loss='mse',optimizer=adam)\n",
    "model.fit_generator(train_generator, samples_per_epoch=len(train_samples), validation_data=validation_generator,nb_val_samples=len(validation_samples), nb_epoch=20)\n",
    "model.save('model.h5')\n",
    "model.save('model.json')"
   ]
  }
 ],
 "metadata": {
  "anaconda-cloud": {},
  "kernelspec": {
   "display_name": "Python 3",
   "language": "python",
   "name": "python3"
  },
  "language_info": {
   "codemirror_mode": {
    "name": "ipython",
    "version": 3
   },
   "file_extension": ".py",
   "mimetype": "text/x-python",
   "name": "python",
   "nbconvert_exporter": "python",
   "pygments_lexer": "ipython3",
   "version": "3.5.0"
  }
 },
 "nbformat": 4,
 "nbformat_minor": 1
}
